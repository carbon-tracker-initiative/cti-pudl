{
 "cells": [
  {
   "cell_type": "code",
   "execution_count": null,
   "id": "relevant-granny",
   "metadata": {},
   "outputs": [],
   "source": [
    "%load_ext autoreload\n",
    "%autoreload 2"
   ]
  },
  {
   "cell_type": "code",
   "execution_count": null,
   "id": "confused-bread",
   "metadata": {},
   "outputs": [],
   "source": [
    "# Standard libraries\n",
    "import logging\n",
    "import sys\n",
    "import re\n",
    "\n",
    "import pandas as pd\n",
    "import sqlalchemy as sa\n",
    "import matplotlib as mpl\n",
    "import matplotlib.pyplot as plt\n",
    "\n",
    "import ast\n",
    "\n",
    "import pudl\n",
    "from pudl_ct.guts import *\n",
    "\n",
    "mpl.style.use('dark_background')\n",
    "pd.options.display.max_columns = None\n",
    "plt.rcParams[\"figure.figsize\"] = (15,10)"
   ]
  },
  {
   "cell_type": "code",
   "execution_count": null,
   "id": "gothic-thinking",
   "metadata": {},
   "outputs": [],
   "source": [
    "logger=logging.getLogger()\n",
    "logger.setLevel(logging.INFO)\n",
    "handler = logging.StreamHandler(stream=sys.stdout)\n",
    "formatter = logging.Formatter('%(message)s')\n",
    "handler.setFormatter(formatter)\n",
    "logger.handlers = [handler]"
   ]
  },
  {
   "cell_type": "markdown",
   "id": "subsequent-blind",
   "metadata": {},
   "source": [
    "### Make Shared Inputs\n",
    "These tables will be shared between both the coal and gas outputs. This is especially important for CEMS because it takes a minute to process the hourly data"
   ]
  },
  {
   "cell_type": "code",
   "execution_count": null,
   "id": "closing-things",
   "metadata": {},
   "outputs": [],
   "source": [
    "# make the PUDL output object which will \n",
    "pudl_settings = pudl.workspace.setup.get_defaults()\n",
    "pudl_engine = sa.create_engine(pudl_settings['pudl_db'])\n",
    "# the fill_net_gen arg is employing a beta feature!\n",
    "# It will result in a much higher coverage of net generation\n",
    "# and fuel consuption, but it has known issues with multi-fuel plants.\n",
    "pudl_out = pudl.output.pudltabl.PudlTabl(\n",
    "    pudl_engine,\n",
    "    freq='AS',\n",
    "    fill_fuel_cost=True,\n",
    "    roll_fuel_cost=True,\n",
    "    fill_net_gen=True,\n",
    "    start_date='2017-01-01',\n",
    ")"
   ]
  },
  {
   "cell_type": "code",
   "execution_count": null,
   "id": "inclusive-found",
   "metadata": {},
   "outputs": [],
   "source": [
    "%%time\n",
    "# this takes several minutes.. it is aggregating the hourly cems records\n",
    "epacems_path = pathlib.Path(pudl_settings['parquet_dir']) / 'epacems'\n",
    "cems_by_boiler = get_cems(epacems_path)"
   ]
  },
  {
   "cell_type": "code",
   "execution_count": null,
   "id": "southern-understanding",
   "metadata": {},
   "outputs": [],
   "source": [
    "gen = (\n",
    "    prep_gens_eia(pudl_out)\n",
    "    .pipe(add_nems, pudl_out)\n",
    "    .pipe(merge_gem_w_df, df_source='eia')\n",
    ")"
   ]
  },
  {
   "cell_type": "code",
   "execution_count": null,
   "id": "driven-language",
   "metadata": {},
   "outputs": [],
   "source": [
    "eia_cems_merge = stuff(cems_by_boiler=cems_by_boiler, gen=gen, pudl_out=pudl_out)"
   ]
  },
  {
   "cell_type": "markdown",
   "id": "biological-curtis",
   "metadata": {},
   "source": [
    "### Make Outputs for Coal Modeling\n",
    "These outputs will be aggregated to EIA/PUDL units"
   ]
  },
  {
   "cell_type": "code",
   "execution_count": null,
   "id": "little-tucson",
   "metadata": {},
   "outputs": [],
   "source": [
    "# let's make the main outputs here...\n",
    "out_pudl_units = make_ct_compilation(pudl_out, unit_id_col='unit_id_pudl')"
   ]
  },
  {
   "cell_type": "markdown",
   "id": "silent-coffee",
   "metadata": {},
   "source": [
    "### Make Outputs for Gas Modeling\n",
    "These outputs will be aggregated to gem units."
   ]
  },
  {
   "cell_type": "code",
   "execution_count": null,
   "id": "hired-stereo",
   "metadata": {
    "tags": []
   },
   "outputs": [],
   "source": [
    "out_gem_units = make_ct_compilation(pudl_out, unit_id_col='unit_id_gem')"
   ]
  },
  {
   "cell_type": "markdown",
   "id": "steady-neighborhood",
   "metadata": {},
   "source": [
    "### Export the Various Outputs"
   ]
  },
  {
   "cell_type": "code",
   "execution_count": null,
   "id": "desirable-jonathan",
   "metadata": {},
   "outputs": [],
   "source": [
    "out_gem_units.to_csv(pathlib.Path.cwd().parent / 'outputs/gem_units.csv.gz')\n",
    "out_pudl_units.to_csv(pathlib.Path.cwd().parent / 'outputs/eia_units.csv.gz')\n",
    "\n",
    "eia_cems_merge.to_csv(pathlib.Path.cwd().parent / 'outputs/carbon-tracker-cems.csv.gz')\n",
    "\n",
    "# there are the interim outputs... if your interested\n",
    "gen.to_csv(pathlib.Path.cwd().parent / 'outputs/eia_generators.csv.gz')\n",
    "#steam_df.to_csv(pathlib.Path.cwd().parent / 'outputs/ferc1_steam_records.csv.gz')\n",
    "#steam_by_fuel.to_csv(pathlib.Path.cwd().parent / 'outputs/ferc1_steam_by_fuel.csv.gz')\n",
    "cems_by_boiler.to_csv(pathlib.Path.cwd().parent / 'outputs/cems_by_boiler.csv.gz')"
   ]
  },
  {
   "cell_type": "code",
   "execution_count": null,
   "id": "julian-audio",
   "metadata": {},
   "outputs": [],
   "source": [
    "gem_out.to_csv(pathlib.Path.cwd().parent / 'outputs/ct-plant-compilation-gem-id.csv.gz')\n",
    "gem_out_alloc.to_csv(pathlib.Path.cwd().parent / 'outputs/ct-plant-compilation-allocated-gem-id.csv.gz')"
   ]
  },
  {
   "cell_type": "markdown",
   "id": "configured-northern",
   "metadata": {},
   "source": [
    "### Plot some stuff"
   ]
  },
  {
   "cell_type": "code",
   "execution_count": null,
   "id": "concrete-dispatch",
   "metadata": {},
   "outputs": [],
   "source": [
    "out_df_pudl = coal_out[\n",
    "    (coal_out.fuel_type_code_pudl == 'coal') \n",
    "    & (coal_out.report_date.dt.year.isin(NEMS_FILE_NAMES.keys()))\n",
    "]\n",
    "\n",
    "\n",
    "plt.hist(\n",
    "    out_df_pudl.capex_annual_per_kw_avg_life,\n",
    "    weights=out_df_pudl.capacity_mw,\n",
    "    bins=50,\n",
    "    label='FERC',\n",
    "    color='blueviolet',\n",
    ")\n",
    "plt.hist(\n",
    "    out_df_pudl.capex_annual_per_kw_nems,\n",
    "    weights=out_df_pudl.capacity_mw,\n",
    "    bins=50,\n",
    "    label='NEMS',\n",
    "    color='thistle'\n",
    ")\n",
    "\n",
    "plt.ylabel('Capacity (MW)')\n",
    "plt.xlabel('Annual Capex ($/kW)')\n",
    "plt.legend(fontsize=16)\n",
    "plt.title('Annual Coal Capex from FERC and NEMS', fontsize=20)\n",
    "plt.show();\n",
    "\n",
    "\n",
    "\n",
    "out_df_gem = gas_out[\n",
    "    (gas_out.fuel_type_code_pudl == 'gas') \n",
    "    & (gas_out.report_date.dt.year.isin(NEMS_FILE_NAMES.keys()))\n",
    "]\n",
    "\n",
    "\n",
    "plt.hist(\n",
    "    out_df_gem.capex_annual_per_kw_avg_life,\n",
    "    weights=out_df_gem.capacity_mw,\n",
    "    bins=50,\n",
    "    label='FERC',\n",
    "    color='blueviolet',\n",
    ")\n",
    "plt.hist(\n",
    "    out_df_gem.capex_annual_per_kw_nems,\n",
    "    weights=out_df_gem.capacity_mw,\n",
    "    bins=50,\n",
    "    label='NEMS',\n",
    "    color='thistle'\n",
    ")\n",
    "\n",
    "plt.ylabel('Capacity (MW)')\n",
    "plt.xlabel('Annual Capex ($/kW)')\n",
    "plt.legend(fontsize=16)\n",
    "plt.title('Annual Gas Capex from FERC and NEMS', fontsize=20)\n",
    "plt.show();"
   ]
  },
  {
   "cell_type": "code",
   "execution_count": null,
   "id": "essential-process",
   "metadata": {},
   "outputs": [],
   "source": [
    "colors_fuel = ['blueviolet', 'deeppink', 'yellow', 'lime', 'aqua', ]\n",
    "fuels= [f for f in steam_df.fuel_type_code_pudl.unique() if f not in ['unknown', ''] and f is not np.NAN]"
   ]
  },
  {
   "cell_type": "code",
   "execution_count": null,
   "id": "inappropriate-electron",
   "metadata": {},
   "outputs": [],
   "source": [
    "for fuel, color in zip(fuels, colors_fuel):\n",
    "    df = steam_df[steam_df.fuel_type_code_pudl == fuel]\n",
    "    plt.hist(\n",
    "        df.capex_annual_per_mw/1000,\n",
    "        weights=df.capacity_mw,\n",
    "        bins=100, range=(-10, 100),\n",
    "        label=fuel,\n",
    "        alpha=.7, color=color\n",
    "    )\n",
    "    \n",
    "plt.title('Capital Additions per kW by Fuel', fontsize=18)\n",
    "plt.xlabel('Capital Additons ($/kW)')\n",
    "plt.ylabel('Weighted by Capacity (MW)')\n",
    "plt.legend()\n",
    "plt.show()"
   ]
  },
  {
   "cell_type": "code",
   "execution_count": null,
   "id": "occupied-bundle",
   "metadata": {},
   "outputs": [],
   "source": [
    "for fuel, color in zip(fuels, colors_fuel):\n",
    "    df = steam_df[steam_df.fuel_type_code_pudl == fuel]\n",
    "    plt.hist(\n",
    "        df.capex_annual_per_mw_rolling/1000,\n",
    "        weights=df.capacity_mw,\n",
    "        bins=100, range=(-10, 100),\n",
    "        label=fuel,\n",
    "        alpha=.7, color=color\n",
    "    )\n",
    "    \n",
    "plt.title('Capital Additions per kW by Fuel', fontsize=18)\n",
    "plt.xlabel('Capital Additons ($/kW)')\n",
    "plt.ylabel('Weighted by Capacity (MW)')\n",
    "plt.legend()\n",
    "plt.show()"
   ]
  },
  {
   "cell_type": "code",
   "execution_count": null,
   "id": "pharmaceutical-question",
   "metadata": {},
   "outputs": [],
   "source": [
    "for fuel, color in zip(fuels, colors_fuel):\n",
    "    df = steam_df[steam_df.fuel_type_code_pudl == fuel]\n",
    "    plt.hist(\n",
    "        df.capex_annual_per_mwh,\n",
    "        weights=df.net_generation_mwh,\n",
    "        bins=100, range=(-10, 50),\n",
    "        label=fuel,\n",
    "        alpha=.7,\n",
    "        color=color\n",
    "    )\n",
    "    \n",
    "plt.title('Capital Additions per MWh by Fuel', fontsize=18)\n",
    "plt.xlabel('Capital Additions $/MWh')\n",
    "plt.ylabel('Weighted by Net Generation (MWh)')\n",
    "plt.legend()\n",
    "plt.show()"
   ]
  },
  {
   "cell_type": "code",
   "execution_count": null,
   "id": "french-floating",
   "metadata": {},
   "outputs": [],
   "source": [
    "for year in range(2009, 2020):\n",
    "    df = steam_df[\n",
    "        (steam_df.report_year == year)\n",
    "        & (steam_df.fuel_type_code_pudl == 'coal')\n",
    "    ]\n",
    "    plt.hist(\n",
    "        df.capex_annual_per_mwh,\n",
    "        weights=df.net_generation_mwh,\n",
    "        bins=100, range=(-10, 100),\n",
    "        label=year,\n",
    "        alpha=.7\n",
    "    )\n",
    "    \n",
    "plt.title('Capital Additions per MWh by Year', fontsize=18)\n",
    "plt.xlabel('Capital Additons per MWh')\n",
    "plt.legend()\n",
    "plt.show()"
   ]
  },
  {
   "cell_type": "code",
   "execution_count": null,
   "id": "still-spring",
   "metadata": {},
   "outputs": [],
   "source": []
  },
  {
   "cell_type": "code",
   "execution_count": null,
   "id": "laden-brisbane",
   "metadata": {},
   "outputs": [],
   "source": []
  },
  {
   "cell_type": "code",
   "execution_count": null,
   "id": "aquatic-bleeding",
   "metadata": {},
   "outputs": [],
   "source": []
  },
  {
   "cell_type": "code",
   "execution_count": null,
   "id": "immune-fellowship",
   "metadata": {},
   "outputs": [],
   "source": [
    "for fuel in ['coal', 'gas']:\n",
    "    plt.hist(\n",
    "        gens_w_ferc1_nems[gens_w_ferc1_nems.fuel_type_code_pudl == fuel].fuel_cost_per_mmbtu,\n",
    "        label=fuel,\n",
    "        bins=50, range=(-2,10)\n",
    "    )\n",
    "    \n",
    "plt.legend()\n",
    "plt.show()"
   ]
  },
  {
   "cell_type": "markdown",
   "id": "confirmed-uncertainty",
   "metadata": {},
   "source": [
    "### Charting the different FERC methods"
   ]
  },
  {
   "cell_type": "code",
   "execution_count": null,
   "id": "downtown-drinking",
   "metadata": {},
   "outputs": [],
   "source": [
    "eia_ferc_fuel = merge_eia_ferc_simple(unit=unit, steam_df=steam_df, steam_by_fuel=steam_by_fuel)\n",
    "#eia_ferc_unit = merge_eia_ferc_unit(gen)"
   ]
  },
  {
   "cell_type": "code",
   "execution_count": null,
   "id": "objective-albert",
   "metadata": {},
   "outputs": [],
   "source": [
    "for fuel in ['coal', 'gas']:\n",
    "    fuel_df = eia_ferc_fuel[\n",
    "        (eia_ferc_fuel.fuel_type_code_pudl == fuel)\n",
    "        & (eia_ferc_fuel.report_date.dt.year == 2019)\n",
    "    ]\n",
    "    plt.hist(\n",
    "        fuel_df.opex_nonfuel_per_mwh, \n",
    "        weights=fuel_df.net_generation_mwh,\n",
    "        range=(-10,50),\n",
    "        bins=100,\n",
    "        label=fuel\n",
    "    )\n",
    "plt.legend()\n",
    "plt.show()"
   ]
  },
  {
   "cell_type": "code",
   "execution_count": null,
   "id": "working-speech",
   "metadata": {},
   "outputs": [],
   "source": [
    "non_matching = gens_w_ferc1[\n",
    "    (gens_w_ferc1.opex_nonfuel_per_mwh_plant_fuel !=\n",
    "    gens_w_ferc1.opex_nonfuel_per_mwh_unit)\n",
    "    & gens_w_ferc1.opex_nonfuel_per_mwh_plant_fuel.notnull()\n",
    "    & gens_w_ferc1.opex_nonfuel_per_mwh_unit.notnull()\n",
    "]"
   ]
  },
  {
   "cell_type": "code",
   "execution_count": null,
   "id": "limiting-worth",
   "metadata": {},
   "outputs": [],
   "source": [
    "fig, (ax) = plt.subplots(ncols=1, nrows=1, figsize=(10, 10))\n",
    "ax.scatter(non_matching.opex_nonfuel_per_mwh_plant_fuel,\n",
    "           non_matching.opex_nonfuel_per_mwh_unit,\n",
    "           color='aquamarine', alpha=0.1, \n",
    "           #label=field\n",
    "          )\n",
    "lims = (1e0, 1e5)\n",
    "ax.set_ylim(lims)\n",
    "ax.set_xlim(lims)\n",
    "\n",
    "ax.set_xscale('log')\n",
    "ax.set_yscale('log')\n",
    "ax.set_xlabel('Opex Non-fuel ($/MWh) plant_fuel')\n",
    "ax.set_ylabel('Opex Non-fuel ($/MWh) plant_unit')\n",
    "ax.set_title(f\"Non-Fuel Opex plant_fuel vs. plant_unit (Non-matching)\", {'fontsize': 18,'fontweight' : 'bold'})"
   ]
  },
  {
   "cell_type": "code",
   "execution_count": null,
   "id": "organic-morrison",
   "metadata": {},
   "outputs": [],
   "source": [
    "fig, (ax) = plt.subplots(ncols=1, nrows=1, figsize=(10, 10))\n",
    "for fuel_type in ['gas', 'coal']:\n",
    "    non_matching_fuel = non_matching[non_matching.fuel_type_code_pudl == fuel_type]\n",
    "    ax.scatter(non_matching_fuel.opex_nonfuel_per_mwh_plant_fuel,\n",
    "               non_matching_fuel.opex_nonfuel_per_mwh_unit,\n",
    "               #color='aquamarine',\n",
    "               alpha=0.3, \n",
    "               label=fuel_type\n",
    "              )\n",
    "    lims = (1e0, 1e3)\n",
    "ax.set_ylim(lims)\n",
    "ax.set_xlim(lims)\n",
    "ax.legend()\n",
    "\n",
    "ax.set_xscale('log')\n",
    "ax.set_yscale('log')\n",
    "ax.set_xlabel('Opex Non-fuel ($/MWh) plant_fuel')\n",
    "ax.set_ylabel('Opex Non-fuel ($/MWh) plant_unit')\n",
    "ax.set_title(f\"Non-Fuel Opex plant_fuel vs. plant_unit (Non-matching)\", {'fontsize': 18,'fontweight' : 'bold'})"
   ]
  },
  {
   "cell_type": "code",
   "execution_count": null,
   "id": "metric-suffering",
   "metadata": {},
   "outputs": [],
   "source": [
    "fig, (ax) = plt.subplots(ncols=1, nrows=1, figsize=(10, 10))\n",
    "#for year in non_matching.report_date.sort_values().dt.year.unique():\n",
    "for year in [2017,2018,2019]:\n",
    "    non_matching_year = non_matching[non_matching.report_date.dt.year == year]\n",
    "    ax.scatter(non_matching_year.opex_nonfuel_per_mwh_plant_fuel,\n",
    "               non_matching_year.opex_nonfuel_per_mwh_unit,\n",
    "               #color='aquamarine',\n",
    "               alpha=0.3, \n",
    "               label=year\n",
    "              )\n",
    "    lims = (1e0, 1e5)\n",
    "ax.set_ylim(lims)\n",
    "ax.set_xlim(lims)\n",
    "ax.legend()\n",
    "\n",
    "ax.set_xscale('log')\n",
    "ax.set_yscale('log')\n",
    "ax.set_xlabel('Opex Non-fuel ($/MWh) plant_fuel')\n",
    "ax.set_ylabel('Opex Non-fuel ($/MWh) plant_unit')\n",
    "ax.set_title(f\"Non-Fuel Opex plant_fuel vs. plant_unit {year} (Non-matching)\", {'fontsize': 18,'fontweight' : 'bold'})"
   ]
  }
 ],
 "metadata": {
  "kernelspec": {
   "display_name": "Python 3",
   "language": "python",
   "name": "python3"
  },
  "language_info": {
   "codemirror_mode": {
    "name": "ipython",
    "version": 3
   },
   "file_extension": ".py",
   "mimetype": "text/x-python",
   "name": "python",
   "nbconvert_exporter": "python",
   "pygments_lexer": "ipython3",
   "version": "3.9.2"
  }
 },
 "nbformat": 4,
 "nbformat_minor": 5
}
