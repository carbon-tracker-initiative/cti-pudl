{
 "cells": [
  {
   "cell_type": "code",
   "execution_count": null,
   "id": "auburn-snake",
   "metadata": {},
   "outputs": [],
   "source": [
    "%load_ext autoreload\n",
    "%autoreload 2"
   ]
  },
  {
   "cell_type": "code",
   "execution_count": null,
   "id": "floating-router",
   "metadata": {},
   "outputs": [],
   "source": [
    "# Standard libraries\n",
    "import logging\n",
    "import sys\n",
    "\n",
    "import pandas as pd\n",
    "import sqlalchemy as sa\n",
    "import matplotlib as mpl\n",
    "import matplotlib.pyplot as plt\n",
    "\n",
    "\n",
    "import pudl\n",
    "from pudl_ct.guts import *\n",
    "\n",
    "mpl.style.use('dark_background')\n",
    "pd.options.display.max_columns = None"
   ]
  },
  {
   "cell_type": "code",
   "execution_count": null,
   "id": "corresponding-employee",
   "metadata": {},
   "outputs": [],
   "source": [
    "logger=logging.getLogger()\n",
    "logger.setLevel(logging.INFO)\n",
    "handler = logging.StreamHandler(stream=sys.stdout)\n",
    "formatter = logging.Formatter('%(message)s')\n",
    "handler.setFormatter(formatter)\n",
    "logger.handlers = [handler]"
   ]
  },
  {
   "cell_type": "code",
   "execution_count": null,
   "id": "adult-facial",
   "metadata": {},
   "outputs": [],
   "source": [
    "pudl_settings = pudl.workspace.setup.get_defaults()\n",
    "pudl_engine = sa.create_engine(pudl_settings['pudl_db'])"
   ]
  },
  {
   "cell_type": "code",
   "execution_count": null,
   "id": "contemporary-toolbox",
   "metadata": {},
   "outputs": [],
   "source": [
    "pudl_out = pudl.output.pudltabl.PudlTabl(\n",
    "    pudl_engine,\n",
    "    freq='AS',\n",
    "    fill_fuel_cost=True,\n",
    "    roll_fuel_cost=True,\n",
    "    fill_net_gen=False,\n",
    ")"
   ]
  },
  {
   "cell_type": "code",
   "execution_count": null,
   "id": "passive-franklin",
   "metadata": {},
   "outputs": [],
   "source": [
    "%%time\n",
    "# this takes a few minutes to run... it is mostly the first two lines\n",
    "gen = prep_gens_eia(pudl_out)\n",
    "unit = agg_gen_eia(gen=gen, pudl_out=pudl_out)\n",
    "\n",
    "steam_df = prep_plants_ferc(pudl_out)\n",
    "steam_by_fuel = agg_plants_ferc_by_plant_fuel(steam_df)\n",
    "gens_w_ferc1 = merge_eia_ferc(gen=gen, unit=unit, steam_df=steam_df, steam_by_fuel=steam_by_fuel, pudl_out=pudl_out)\n",
    "gens_w_ferc1_nems = add_nems(gens_w_ferc1, pudl_out, path_nems).pipe(fill_in_opex_w_nems)"
   ]
  },
  {
   "cell_type": "code",
   "execution_count": null,
   "id": "sealed-amino",
   "metadata": {},
   "outputs": [],
   "source": [
    "%%time\n",
    "# this takes several minutes.. it is aggregating the hourly cems records\n",
    "epacems_path = pathlib.Path(pudl_settings['parquet_dir']) / 'epacems'\n",
    "cems_by_boiler = get_cems(epacems_path)"
   ]
  },
  {
   "cell_type": "code",
   "execution_count": null,
   "id": "excessive-carroll",
   "metadata": {},
   "outputs": [],
   "source": [
    "eia_cems_merge = stuff(cems_byplant=cems_by_boiler, gen=gen, pudl_out=pudl_out)"
   ]
  },
  {
   "cell_type": "code",
   "execution_count": null,
   "id": "running-professional",
   "metadata": {},
   "outputs": [],
   "source": [
    "gens_w_ferc1_nems.to_csv(pathlib.Path.cwd().parent / 'outputs/carbon-tracker-plant-compilation.csv.gz')\n",
    "eia_cems_merge.to_csv(pathlib.Path.cwd().parent / 'outputs/carbon-tracker-cems.csv.gz')"
   ]
  },
  {
   "cell_type": "markdown",
   "id": "declared-recruitment",
   "metadata": {},
   "source": [
    "### Charting the different FERC methods"
   ]
  },
  {
   "cell_type": "code",
   "execution_count": null,
   "id": "focal-basin",
   "metadata": {},
   "outputs": [],
   "source": [
    "eia_ferc_fuel = merge_eia_ferc_simple(unit=unit, steam_df=steam_df, steam_by_fuel=steam_by_fuel)\n",
    "#eia_ferc_unit = merge_eia_ferc_unit(gen)"
   ]
  },
  {
   "cell_type": "code",
   "execution_count": null,
   "id": "spoken-auckland",
   "metadata": {},
   "outputs": [],
   "source": [
    "for fuel in ['coal', 'gas']:\n",
    "    fuel_df = eia_ferc_fuel[\n",
    "        (eia_ferc_fuel.fuel_type_code_pudl == fuel)\n",
    "        & (eia_ferc_fuel.report_date.dt.year == 2019)\n",
    "    ]\n",
    "    plt.hist(\n",
    "        fuel_df.opex_nonfuel_per_mwh, \n",
    "        weights=fuel_df.net_generation_mwh,\n",
    "        range=(-10,50),\n",
    "        bins=100,\n",
    "        label=fuel\n",
    "    )\n",
    "plt.legend()\n",
    "plt.show()"
   ]
  },
  {
   "cell_type": "code",
   "execution_count": null,
   "id": "dried-group",
   "metadata": {},
   "outputs": [],
   "source": [
    "non_matching = gens_w_ferc1[\n",
    "    (gens_w_ferc1.opex_nonfuel_per_mwh_plant_fuel !=\n",
    "    gens_w_ferc1.opex_nonfuel_per_mwh_unit)\n",
    "    & gens_w_ferc1.opex_nonfuel_per_mwh_plant_fuel.notnull()\n",
    "    & gens_w_ferc1.opex_nonfuel_per_mwh_unit.notnull()\n",
    "]"
   ]
  },
  {
   "cell_type": "code",
   "execution_count": null,
   "id": "spectacular-accommodation",
   "metadata": {},
   "outputs": [],
   "source": [
    "fig, (ax) = plt.subplots(ncols=1, nrows=1, figsize=(10, 10))\n",
    "ax.scatter(non_matching.opex_nonfuel_per_mwh_plant_fuel,\n",
    "           non_matching.opex_nonfuel_per_mwh_unit,\n",
    "           color='aquamarine', alpha=0.1, \n",
    "           #label=field\n",
    "          )\n",
    "lims = (1e0, 1e5)\n",
    "ax.set_ylim(lims)\n",
    "ax.set_xlim(lims)\n",
    "\n",
    "ax.set_xscale('log')\n",
    "ax.set_yscale('log')\n",
    "ax.set_xlabel('Opex Non-fuel ($/MWh) plant_fuel')\n",
    "ax.set_ylabel('Opex Non-fuel ($/MWh) plant_unit')\n",
    "ax.set_title(f\"Non-Fuel Opex plant_fuel vs. plant_unit (Non-matching)\", {'fontsize': 18,'fontweight' : 'bold'})"
   ]
  },
  {
   "cell_type": "code",
   "execution_count": null,
   "id": "premium-mississippi",
   "metadata": {},
   "outputs": [],
   "source": [
    "fig, (ax) = plt.subplots(ncols=1, nrows=1, figsize=(10, 10))\n",
    "for fuel_type in ['gas', 'coal']:\n",
    "    non_matching_fuel = non_matching[non_matching.fuel_type_code_pudl == fuel_type]\n",
    "    ax.scatter(non_matching_fuel.opex_nonfuel_per_mwh_plant_fuel,\n",
    "               non_matching_fuel.opex_nonfuel_per_mwh_unit,\n",
    "               #color='aquamarine',\n",
    "               alpha=0.3, \n",
    "               label=fuel_type\n",
    "              )\n",
    "    lims = (1e0, 1e3)\n",
    "ax.set_ylim(lims)\n",
    "ax.set_xlim(lims)\n",
    "ax.legend()\n",
    "\n",
    "ax.set_xscale('log')\n",
    "ax.set_yscale('log')\n",
    "ax.set_xlabel('Opex Non-fuel ($/MWh) plant_fuel')\n",
    "ax.set_ylabel('Opex Non-fuel ($/MWh) plant_unit')\n",
    "ax.set_title(f\"Non-Fuel Opex plant_fuel vs. plant_unit (Non-matching)\", {'fontsize': 18,'fontweight' : 'bold'})"
   ]
  },
  {
   "cell_type": "code",
   "execution_count": null,
   "id": "cheap-mileage",
   "metadata": {},
   "outputs": [],
   "source": [
    "fig, (ax) = plt.subplots(ncols=1, nrows=1, figsize=(10, 10))\n",
    "#for year in non_matching.report_date.sort_values().dt.year.unique():\n",
    "for year in [2017,2018,2019]:\n",
    "    non_matching_year = non_matching[non_matching.report_date.dt.year == year]\n",
    "    ax.scatter(non_matching_year.opex_nonfuel_per_mwh_plant_fuel,\n",
    "               non_matching_year.opex_nonfuel_per_mwh_unit,\n",
    "               #color='aquamarine',\n",
    "               alpha=0.3, \n",
    "               label=year\n",
    "              )\n",
    "    lims = (1e0, 1e5)\n",
    "ax.set_ylim(lims)\n",
    "ax.set_xlim(lims)\n",
    "ax.legend()\n",
    "\n",
    "ax.set_xscale('log')\n",
    "ax.set_yscale('log')\n",
    "ax.set_xlabel('Opex Non-fuel ($/MWh) plant_fuel')\n",
    "ax.set_ylabel('Opex Non-fuel ($/MWh) plant_unit')\n",
    "ax.set_title(f\"Non-Fuel Opex plant_fuel vs. plant_unit {year} (Non-matching)\", {'fontsize': 18,'fontweight' : 'bold'})"
   ]
  }
 ],
 "metadata": {
  "kernelspec": {
   "display_name": "Python 3",
   "language": "python",
   "name": "python3"
  },
  "language_info": {
   "codemirror_mode": {
    "name": "ipython",
    "version": 3
   },
   "file_extension": ".py",
   "mimetype": "text/x-python",
   "name": "python",
   "nbconvert_exporter": "python",
   "pygments_lexer": "ipython3",
   "version": "3.9.2"
  }
 },
 "nbformat": 4,
 "nbformat_minor": 5
}
