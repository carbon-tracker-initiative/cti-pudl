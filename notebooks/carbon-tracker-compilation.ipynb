{
 "cells": [
  {
   "cell_type": "code",
   "execution_count": null,
   "id": "informative-exception",
   "metadata": {},
   "outputs": [],
   "source": [
    "!pip install -e ../"
   ]
  },
  {
   "cell_type": "code",
   "execution_count": null,
   "id": "quality-surname",
   "metadata": {},
   "outputs": [],
   "source": [
    "%load_ext autoreload\n",
    "%autoreload 2"
   ]
  },
  {
   "cell_type": "code",
   "execution_count": null,
   "id": "sustainable-philippines",
   "metadata": {},
   "outputs": [],
   "source": [
    "# Standard libraries\n",
    "import logging\n",
    "import sys\n",
    "import re\n",
    "\n",
    "import pandas as pd\n",
    "import sqlalchemy as sa\n",
    "import matplotlib as mpl\n",
    "import matplotlib.pyplot as plt\n",
    "\n",
    "import ast\n",
    "\n",
    "import pudl\n",
    "from pudl_ct.guts import *\n",
    "\n",
    "mpl.style.use('dark_background')\n",
    "pd.options.display.max_columns = None\n",
    "plt.rcParams[\"figure.figsize\"] = (15,10)"
   ]
  },
  {
   "cell_type": "code",
   "execution_count": null,
   "id": "traditional-blocking",
   "metadata": {},
   "outputs": [],
   "source": [
    "logger=logging.getLogger()\n",
    "logger.setLevel(logging.INFO)\n",
    "handler = logging.StreamHandler(stream=sys.stdout)\n",
    "formatter = logging.Formatter('%(message)s')\n",
    "handler.setFormatter(formatter)\n",
    "logger.handlers = [handler]"
   ]
  },
  {
   "cell_type": "markdown",
   "id": "personal-string",
   "metadata": {},
   "source": [
    "### Make Shared Inputs\n",
    "These tables will be shared between both the coal and gas outputs. This is especially important for CEMS because it takes a minute to process the hourly data"
   ]
  },
  {
   "cell_type": "code",
   "execution_count": null,
   "id": "dependent-thanksgiving",
   "metadata": {},
   "outputs": [],
   "source": [
    "# make the PUDL output object which will grab tables from the pudl db\n",
    "# denormalize and cache outputs\n",
    "pudl_settings = pudl.workspace.setup.get_defaults()\n",
    "pudl_engine = sa.create_engine(pudl_settings['pudl_db'])\n",
    "# the fill_net_gen arg is employing a beta feature!\n",
    "# It will result in a much higher coverage of net generation\n",
    "# and fuel consuption, but it has known issues with multi-fuel plants.\n",
    "pudl_out = pudl.output.pudltabl.PudlTabl(\n",
    "    pudl_engine,\n",
    "    freq='AS',\n",
    "    fill_fuel_cost=True,\n",
    "    roll_fuel_cost=True,\n",
    "    fill_net_gen=True,\n",
    "    start_date='2017-01-01',\n",
    ")"
   ]
  },
  {
   "cell_type": "code",
   "execution_count": null,
   "id": "stone-practitioner",
   "metadata": {},
   "outputs": [],
   "source": [
    "%%time\n",
    "# this takes several minutes.. it is aggregating the hourly cems records\n",
    "epacems_path = pathlib.Path(pudl_settings['parquet_dir']) / 'epacems'\n",
    "cems_by_boiler = get_cems(epacems_path)"
   ]
  },
  {
   "cell_type": "code",
   "execution_count": null,
   "id": "formal-jacob",
   "metadata": {},
   "outputs": [],
   "source": [
    "gen = (\n",
    "    prep_gens_eia(pudl_out)\n",
    "    .pipe(add_nems, pudl_out)\n",
    "    .pipe(merge_gem_w_df, df_source='eia')\n",
    ")\n",
    "\n",
    "steam_df = prep_plants_ferc(pudl_out).pipe(calc_annual_capital_addts_ferc1)\n",
    "\n",
    "eia_cems_merge = stuff(cems_by_boiler=cems_by_boiler, gen=gen, pudl_out=pudl_out)"
   ]
  },
  {
   "cell_type": "markdown",
   "id": "signal-highway",
   "metadata": {},
   "source": [
    "### Make Outputs for Coal Modeling\n",
    "These outputs will be aggregated to EIA/PUDL units"
   ]
  },
  {
   "cell_type": "code",
   "execution_count": null,
   "id": "clear-combat",
   "metadata": {},
   "outputs": [],
   "source": [
    "# let's make the main outputs here...\n",
    "out_pudl_units = make_ct_compilation(pudl_out, unit_id_col='unit_id_pudl')"
   ]
  },
  {
   "cell_type": "markdown",
   "id": "handy-scheduling",
   "metadata": {},
   "source": [
    "### Make Outputs for Gas Modeling\n",
    "These outputs will be aggregated to gem units."
   ]
  },
  {
   "cell_type": "code",
   "execution_count": null,
   "id": "centered-diploma",
   "metadata": {
    "tags": []
   },
   "outputs": [],
   "source": [
    "out_gem_units = make_ct_compilation(pudl_out, unit_id_col='unit_id_gem')"
   ]
  },
  {
   "cell_type": "markdown",
   "id": "mexican-export",
   "metadata": {},
   "source": [
    "### Export the Various Outputs"
   ]
  },
  {
   "cell_type": "code",
   "execution_count": null,
   "id": "valued-replication",
   "metadata": {},
   "outputs": [],
   "source": [
    "out_gem_units.to_csv(pathlib.Path.cwd().parent / 'outputs/gem_units.csv.gz')\n",
    "out_pudl_units.to_csv(pathlib.Path.cwd().parent / 'outputs/eia_units.csv.gz')\n",
    "\n",
    "eia_cems_merge.to_csv(pathlib.Path.cwd().parent / 'outputs/carbon-tracker-cems.csv.gz')\n",
    "\n",
    "# there are the interim outputs... if your interested\n",
    "gen.to_csv(pathlib.Path.cwd().parent / 'outputs/eia_generators.csv.gz')\n",
    "#steam_df.to_csv(pathlib.Path.cwd().parent / 'outputs/ferc1_steam_records.csv.gz')\n",
    "#steam_by_fuel.to_csv(pathlib.Path.cwd().parent / 'outputs/ferc1_steam_by_fuel.csv.gz')\n",
    "cems_by_boiler.to_csv(pathlib.Path.cwd().parent / 'outputs/cems_by_boiler.csv.gz')"
   ]
  },
  {
   "cell_type": "markdown",
   "id": "eastern-emergency",
   "metadata": {},
   "source": [
    "### Plot some stuff"
   ]
  },
  {
   "cell_type": "code",
   "execution_count": null,
   "id": "higher-prospect",
   "metadata": {},
   "outputs": [],
   "source": [
    "coal_df = out_pudl_units[\n",
    "    (out_pudl_units.fuel_type_code_pudl == 'coal') \n",
    "    & (out_pudl_units.report_date.dt.year.isin(NEMS_FILE_NAMES.keys()))\n",
    "]\n",
    "\n",
    "\n",
    "plt.hist(\n",
    "    coal_df.capex_annual_per_kw_avg_life,\n",
    "    weights=coal_df.capacity_mw,\n",
    "    bins=50,\n",
    "    label='FERC',\n",
    "    color='blueviolet',\n",
    ")\n",
    "plt.hist(\n",
    "    coal_df.capex_annual_per_kw_nems,\n",
    "    weights=coal_df.capacity_mw,\n",
    "    bins=50,\n",
    "    label='NEMS',\n",
    "    color='thistle'\n",
    ")\n",
    "\n",
    "plt.ylabel('Capacity (MW)')\n",
    "plt.xlabel('Annual Capex ($/kW)')\n",
    "plt.legend(fontsize=16)\n",
    "plt.title('Annual Coal Capex from FERC and NEMS', fontsize=20)\n",
    "plt.show();\n",
    "\n",
    "\n",
    "\n",
    "gas_df = out_gem_units[\n",
    "    (out_gem_units.fuel_type_code_pudl == 'gas') \n",
    "    & (out_gem_units.report_date.dt.year.isin(NEMS_FILE_NAMES.keys()))\n",
    "]\n",
    "\n",
    "\n",
    "plt.hist(\n",
    "    gas_df.capex_annual_per_kw_avg_life,\n",
    "    weights=gas_df.capacity_mw,\n",
    "    bins=50,\n",
    "    label='FERC',\n",
    "    color='blueviolet',\n",
    ")\n",
    "plt.hist(\n",
    "    gas_df.capex_annual_per_kw_nems,\n",
    "    weights=gas_df.capacity_mw,\n",
    "    bins=50,\n",
    "    label='NEMS',\n",
    "    color='thistle'\n",
    ")\n",
    "\n",
    "plt.ylabel('Capacity (MW)')\n",
    "plt.xlabel('Annual Capex ($/kW)')\n",
    "plt.legend(fontsize=16)\n",
    "plt.title('Annual Gas Capex from FERC and NEMS', fontsize=20)\n",
    "plt.show();"
   ]
  },
  {
   "cell_type": "code",
   "execution_count": null,
   "id": "interpreted-athletics",
   "metadata": {},
   "outputs": [],
   "source": [
    "colors_fuel = ['blueviolet', 'deeppink', 'yellow', 'lime', 'aqua', ]\n",
    "fuels= [f for f in steam_df.fuel_type_code_pudl.unique() if f not in ['unknown', ''] and f is not np.NAN]\n",
    "\n",
    "for fuel, color in zip(fuels, colors_fuel):\n",
    "    df = steam_df[steam_df.fuel_type_code_pudl == fuel]\n",
    "    plt.hist(\n",
    "        df.capex_annual_per_mw/1000,\n",
    "        weights=df.capacity_mw,\n",
    "        bins=100, range=(-10, 100),\n",
    "        label=fuel,\n",
    "        alpha=.7, color=color\n",
    "    )\n",
    "    \n",
    "plt.title('Capital Additions per kW by Fuel', fontsize=18)\n",
    "plt.xlabel('Capital Additons ($/kW)')\n",
    "plt.ylabel('Weighted by Capacity (MW)')\n",
    "plt.legend()\n",
    "plt.show()"
   ]
  },
  {
   "cell_type": "code",
   "execution_count": null,
   "id": "virtual-peace",
   "metadata": {},
   "outputs": [],
   "source": [
    "for fuel, color in zip(fuels, colors_fuel):\n",
    "    df = steam_df[steam_df.fuel_type_code_pudl == fuel]\n",
    "    plt.hist(\n",
    "        df.capex_annual_per_mw_rolling/1000,\n",
    "        weights=df.capacity_mw,\n",
    "        bins=100, range=(-10, 100),\n",
    "        label=fuel,\n",
    "        alpha=.7, color=color\n",
    "    )\n",
    "    \n",
    "plt.title('Capital Additions per kW by Fuel', fontsize=18)\n",
    "plt.xlabel('Capital Additons ($/kW)')\n",
    "plt.ylabel('Weighted by Capacity (MW)')\n",
    "plt.legend()\n",
    "plt.show()"
   ]
  },
  {
   "cell_type": "code",
   "execution_count": null,
   "id": "unknown-segment",
   "metadata": {},
   "outputs": [],
   "source": [
    "for fuel, color in zip(fuels, colors_fuel):\n",
    "    df = steam_df[steam_df.fuel_type_code_pudl == fuel]\n",
    "    plt.hist(\n",
    "        df.capex_annual_per_mwh,\n",
    "        weights=df.net_generation_mwh,\n",
    "        bins=100, range=(-10, 50),\n",
    "        label=fuel,\n",
    "        alpha=.7,\n",
    "        color=color\n",
    "    )\n",
    "    \n",
    "plt.title('Capital Additions per MWh by Fuel', fontsize=18)\n",
    "plt.xlabel('Capital Additions $/MWh')\n",
    "plt.ylabel('Weighted by Net Generation (MWh)')\n",
    "plt.legend()\n",
    "plt.show()"
   ]
  },
  {
   "cell_type": "markdown",
   "id": "legal-sauce",
   "metadata": {},
   "source": [
    "### Charting the different FERC methods"
   ]
  },
  {
   "cell_type": "code",
   "execution_count": null,
   "id": "mathematical-cleaners",
   "metadata": {},
   "outputs": [],
   "source": [
    "unit = agg_gen_eia_to_unit(gen=gen, unit_id_col='unit_id_pudl')"
   ]
  },
  {
   "cell_type": "code",
   "execution_count": null,
   "id": "administrative-booking",
   "metadata": {},
   "outputs": [],
   "source": [
    "unit_id_col = 'unit_id_pudl'\n",
    "\n",
    "eia_ferc_fuel = merge_eia_ferc_simple(unit=unit, steam_df=steam_df, unit_id_col=unit_id_col)\n",
    "\n",
    "gens_w_ferc1 = (\n",
    "    merge_eia_ferc(\n",
    "        gen=gen,\n",
    "        steam_df=steam_df,\n",
    "        unit_id_col=unit_id_col,\n",
    "        unit=unit,\n",
    "        debug=True\n",
    "    )\n",
    "    .pipe(fill_in_opex_w_nems)\n",
    "    .pipe(add_lifetime_avg_capex, unit_id_col)\n",
    "    .pipe(add_state_fuel_avg)\n",
    ")"
   ]
  },
  {
   "cell_type": "code",
   "execution_count": null,
   "id": "alike-plumbing",
   "metadata": {},
   "outputs": [],
   "source": [
    "for fuel in ['coal', 'gas']:\n",
    "    fuel_df = eia_ferc_fuel[\n",
    "        (eia_ferc_fuel.fuel_type_code_pudl == fuel)\n",
    "        & (eia_ferc_fuel.report_date.dt.year == 2019)\n",
    "    ]\n",
    "    plt.hist(\n",
    "        fuel_df.opex_nonfuel_per_mwh, \n",
    "        weights=fuel_df.net_generation_mwh,\n",
    "        range=(-10,50),\n",
    "        bins=100,\n",
    "        label=fuel\n",
    "    )\n",
    "plt.xlabel(\"Non-Fuel Opex ($/MWh)\")\n",
    "plt.ylabel(\"Net Generation (MWh)\")\n",
    "plt.legend()\n",
    "plt.title(\"Opex per MWh for Coal and Gas Units\")\n",
    "plt.show()\n"
   ]
  },
  {
   "cell_type": "code",
   "execution_count": null,
   "id": "expressed-hunter",
   "metadata": {},
   "outputs": [],
   "source": [
    "non_matching = gens_w_ferc1[\n",
    "    (gens_w_ferc1.opex_nonfuel_per_mwh_plant_fuel !=\n",
    "    gens_w_ferc1.opex_nonfuel_per_mwh_unit)\n",
    "    & gens_w_ferc1.opex_nonfuel_per_mwh_plant_fuel.notnull()\n",
    "    & gens_w_ferc1.opex_nonfuel_per_mwh_unit.notnull()\n",
    "]"
   ]
  },
  {
   "cell_type": "code",
   "execution_count": null,
   "id": "guilty-makeup",
   "metadata": {},
   "outputs": [],
   "source": [
    "fig, (ax) = plt.subplots(ncols=1, nrows=1, figsize=(10, 10))\n",
    "ax.scatter(non_matching.opex_nonfuel_per_mwh_plant_fuel,\n",
    "           non_matching.opex_nonfuel_per_mwh_unit,\n",
    "           color='aquamarine', alpha=0.1, \n",
    "           #label=field\n",
    "          )\n",
    "lims = (1e0, 1e5)\n",
    "ax.set_ylim(lims)\n",
    "ax.set_xlim(lims)\n",
    "\n",
    "ax.set_xscale('log')\n",
    "ax.set_yscale('log')\n",
    "ax.set_xlabel('Opex Non-fuel ($/MWh) plant_fuel')\n",
    "ax.set_ylabel('Opex Non-fuel ($/MWh) plant_unit')\n",
    "ax.set_title(f\"Non-Fuel Opex plant_fuel vs. plant_unit (Non-matching)\", {'fontsize': 18,'fontweight' : 'bold'})"
   ]
  },
  {
   "cell_type": "code",
   "execution_count": null,
   "id": "acute-hayes",
   "metadata": {},
   "outputs": [],
   "source": [
    "fig, (ax) = plt.subplots(ncols=1, nrows=1, figsize=(10, 10))\n",
    "for fuel_type in ['gas', 'coal']:\n",
    "    non_matching_fuel = non_matching[non_matching.fuel_type_code_pudl == fuel_type]\n",
    "    ax.scatter(non_matching_fuel.opex_nonfuel_per_mwh_plant_fuel,\n",
    "               non_matching_fuel.opex_nonfuel_per_mwh_unit,\n",
    "               #color='aquamarine',\n",
    "               alpha=0.3, \n",
    "               label=fuel_type\n",
    "              )\n",
    "    lims = (1e0, 1e3)\n",
    "ax.set_ylim(lims)\n",
    "ax.set_xlim(lims)\n",
    "ax.legend()\n",
    "\n",
    "ax.set_xscale('log')\n",
    "ax.set_yscale('log')\n",
    "ax.set_xlabel('Opex Non-fuel ($/MWh) plant_fuel')\n",
    "ax.set_ylabel('Opex Non-fuel ($/MWh) plant_unit')\n",
    "ax.set_title(f\"Non-Fuel Opex plant_fuel vs. plant_unit (Non-matching)\", {'fontsize': 18,'fontweight' : 'bold'})"
   ]
  },
  {
   "cell_type": "code",
   "execution_count": null,
   "id": "sophisticated-shannon",
   "metadata": {},
   "outputs": [],
   "source": [
    "fig, (ax) = plt.subplots(ncols=1, nrows=1, figsize=(10, 10))\n",
    "#for year in non_matching.report_date.sort_values().dt.year.unique():\n",
    "for year in [2017,2018,2019]:\n",
    "    non_matching_year = non_matching[non_matching.report_date.dt.year == year]\n",
    "    ax.scatter(non_matching_year.opex_nonfuel_per_mwh_plant_fuel,\n",
    "               non_matching_year.opex_nonfuel_per_mwh_unit,\n",
    "               #color='aquamarine',\n",
    "               alpha=0.3, \n",
    "               label=year\n",
    "              )\n",
    "    lims = (1e0, 1e5)\n",
    "ax.set_ylim(lims)\n",
    "ax.set_xlim(lims)\n",
    "ax.legend()\n",
    "\n",
    "ax.set_xscale('log')\n",
    "ax.set_yscale('log')\n",
    "ax.set_xlabel('Opex Non-fuel ($/MWh) plant_fuel')\n",
    "ax.set_ylabel('Opex Non-fuel ($/MWh) plant_unit')\n",
    "ax.set_title(f\"Non-Fuel Opex plant_fuel vs. plant_unit {year} (Non-matching)\", {'fontsize': 18,'fontweight' : 'bold'})"
   ]
  }
 ],
 "metadata": {
  "kernelspec": {
   "display_name": "Python 3",
   "language": "python",
   "name": "python3"
  },
  "language_info": {
   "codemirror_mode": {
    "name": "ipython",
    "version": 3
   },
   "file_extension": ".py",
   "mimetype": "text/x-python",
   "name": "python",
   "nbconvert_exporter": "python",
   "pygments_lexer": "ipython3",
   "version": "3.9.2"
  }
 },
 "nbformat": 4,
 "nbformat_minor": 5
}
